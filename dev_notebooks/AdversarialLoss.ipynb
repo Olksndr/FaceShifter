{
 "cells": [
  {
   "cell_type": "code",
   "execution_count": 1,
   "metadata": {},
   "outputs": [],
   "source": [
    "import os\n",
    "\n",
    "import sys\n",
    "\n",
    "sys.path.append('SPADE/')"
   ]
  },
  {
   "cell_type": "code",
   "execution_count": 44,
   "metadata": {},
   "outputs": [],
   "source": []
  },
  {
   "cell_type": "code",
   "execution_count": 3,
   "metadata": {},
   "outputs": [],
   "source": [
    "class DummyOptions:\n",
    "    pass\n",
    "\n",
    "\n",
    "\n",
    "opt.num_D = 3\n",
    "\n",
    "opt.netD_subarch = 'n_layer'\n",
    "\n",
    "opt.ndf = 64\n",
    "\n",
    "opt.label_nc = 2\n",
    "opt.output_nc = 0\n",
    "opt.contain_dontcare_label = False\n",
    "opt.no_instance = False\n",
    "opt.norm_D = 'spectralinstance'\n",
    "opt.n_layers_D = 4\n",
    "\n",
    "opt.no_ganFeat_loss = True\n",
    "\n",
    "opt.gan_mode = 'hinge'"
   ]
  },
  {
   "cell_type": "code",
   "execution_count": null,
   "metadata": {},
   "outputs": [],
   "source": [
    "opt = DummyOptions()"
   ]
  },
  {
   "cell_type": "code",
   "execution_count": 42,
   "metadata": {
    "scrolled": true
   },
   "outputs": [],
   "source": [
    "MultiscaleDiscrimnator = discriminator.MultiscaleDiscriminator(opt)"
   ]
  },
  {
   "cell_type": "code",
   "execution_count": 45,
   "metadata": {},
   "outputs": [],
   "source": [
    "fake_x = torch.zeros([1, 3, 256, 256])\n",
    "\n",
    "true_x = torch.zeros([1, 3, 256, 256])"
   ]
  },
  {
   "cell_type": "code",
   "execution_count": 46,
   "metadata": {},
   "outputs": [],
   "source": [
    "discriminator_input = torch.cat([fake_x, true_x], dim=0)"
   ]
  },
  {
   "cell_type": "code",
   "execution_count": 47,
   "metadata": {},
   "outputs": [],
   "source": [
    "out = MultiscaleDiscrimnator(discriminator_input)"
   ]
  },
  {
   "cell_type": "code",
   "execution_count": 52,
   "metadata": {},
   "outputs": [
    {
     "data": {
      "text/plain": [
       "[torch.Size([2, 1, 35, 35]),\n",
       " torch.Size([2, 1, 19, 19]),\n",
       " torch.Size([2, 1, 11, 11])]"
      ]
     },
     "execution_count": 52,
     "metadata": {},
     "output_type": "execute_result"
    }
   ],
   "source": [
    "[out[i][0].shape for i in range(len(out))]"
   ]
  },
  {
   "cell_type": "code",
   "execution_count": 60,
   "metadata": {},
   "outputs": [],
   "source": [
    "def divide_pred(pred):\n",
    "    # the prediction contains the intermediate outputs of multiscale GAN,\n",
    "    # so it's usually a list\n",
    "    if type(pred) == list:\n",
    "        fake = []\n",
    "        real = []\n",
    "        for p in pred:\n",
    "            fake.append([tensor[:tensor.size(0) // 2] for tensor in p])\n",
    "            real.append([tensor[tensor.size(0) // 2:] for tensor in p])\n",
    "    else:\n",
    "        fake = pred[:pred.size(0) // 2]\n",
    "        real = pred[pred.size(0) // 2:]\n",
    "\n",
    "    return fake, real"
   ]
  },
  {
   "cell_type": "code",
   "execution_count": 61,
   "metadata": {},
   "outputs": [],
   "source": [
    "pred_fake, pred_real = divide_pred(out)"
   ]
  },
  {
   "cell_type": "markdown",
   "metadata": {},
   "source": [
    "####\n"
   ]
  },
  {
   "cell_type": "code",
   "execution_count": 55,
   "metadata": {},
   "outputs": [],
   "source": []
  },
  {
   "cell_type": "code",
   "execution_count": 53,
   "metadata": {},
   "outputs": [],
   "source": []
  },
  {
   "cell_type": "code",
   "execution_count": 56,
   "metadata": {},
   "outputs": [
    {
     "data": {
      "text/plain": [
       "False"
      ]
     },
     "execution_count": 56,
     "metadata": {},
     "output_type": "execute_result"
    }
   ],
   "source": [
    "torch.cuda.is_available()"
   ]
  },
  {
   "cell_type": "code",
   "execution_count": 57,
   "metadata": {},
   "outputs": [],
   "source": [
    "FloatTensor = torch.cuda.FloatTensor if torch.cuda.is_available() \\\n",
    "            else torch.FloatTensor"
   ]
  },
  {
   "cell_type": "code",
   "execution_count": 65,
   "metadata": {},
   "outputs": [],
   "source": [
    "criterionGAN = loss.GANLoss(opt.gan_mode, FloatTensor, opt=opt)"
   ]
  },
  {
   "cell_type": "code",
   "execution_count": 66,
   "metadata": {},
   "outputs": [],
   "source": [
    "GanLoss = criterionGAN(pred_fake, True, for_discriminator=False)"
   ]
  },
  {
   "cell_type": "code",
   "execution_count": 67,
   "metadata": {},
   "outputs": [
    {
     "data": {
      "text/plain": [
       "tensor([-0.0330], grad_fn=<DivBackward0>)"
      ]
     },
     "execution_count": 67,
     "metadata": {},
     "output_type": "execute_result"
    }
   ],
   "source": [
    "GanLoss"
   ]
  },
  {
   "cell_type": "code",
   "execution_count": null,
   "metadata": {},
   "outputs": [],
   "source": []
  }
 ],
 "metadata": {
  "kernelspec": {
   "display_name": "faceswap",
   "language": "python",
   "name": "faceswap"
  },
  "language_info": {
   "codemirror_mode": {
    "name": "ipython",
    "version": 3
   },
   "file_extension": ".py",
   "mimetype": "text/x-python",
   "name": "python",
   "nbconvert_exporter": "python",
   "pygments_lexer": "ipython3",
   "version": "3.6.4"
  }
 },
 "nbformat": 4,
 "nbformat_minor": 4
}
