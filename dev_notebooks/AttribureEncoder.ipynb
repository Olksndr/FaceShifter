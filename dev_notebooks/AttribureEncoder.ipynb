{
 "cells": [
  {
   "cell_type": "code",
   "execution_count": 1,
   "metadata": {},
   "outputs": [],
   "source": [
    "import torch\n",
    "import numpy as np\n",
    "\n",
    "from itertools import chain"
   ]
  },
  {
   "cell_type": "code",
   "execution_count": 2,
   "metadata": {},
   "outputs": [],
   "source": [
    "X_t = torch.zeros([1, 3, 256, 256])"
   ]
  },
  {
   "cell_type": "code",
   "execution_count": 3,
   "metadata": {},
   "outputs": [],
   "source": [
    "class ConvUnit(torch.nn.Module):\n",
    "    def __init__(self, channels):\n",
    "        super(ConvUnit, self).__init__()\n",
    "        input_channels, out_channels = channels\n",
    "        self.conv = torch.nn.Conv2d(input_channels, out_channels, (4, 4), 2, 1)\n",
    "        self.batch_norm = torch.nn.BatchNorm2d(out_channels)\n",
    "        self.relu_op = torch.nn.LeakyReLU()\n",
    "        \n",
    "    def forward(self, input_x):      \n",
    "        conv_out = self.conv(input_x)\n",
    "        batch_norm_out = self.batch_norm(conv_out)\n",
    "        output = self.relu_op(batch_norm_out)\n",
    "        \n",
    "        return output"
   ]
  },
  {
   "cell_type": "code",
   "execution_count": 4,
   "metadata": {},
   "outputs": [],
   "source": [
    "class ConvTransposeUnit(torch.nn.Module):\n",
    "    def __init__(self, channels):\n",
    "        super(ConvTransposeUnit, self).__init__()\n",
    "        input_channels, out_channels = channels\n",
    "        self.conv = torch.nn.ConvTranspose2d(input_channels, out_channels, (4, 4), 2, 1)\n",
    "        self.batch_norm = torch.nn.BatchNorm2d(out_channels)\n",
    "        self.relu_op = torch.nn.LeakyReLU()\n",
    "        \n",
    "    def forward(self, input_x):      \n",
    "        conv_out = self.conv(input_x)\n",
    "        batch_norm_out = self.batch_norm(conv_out)\n",
    "        output = self.relu_op(batch_norm_out)\n",
    "        \n",
    "        return output"
   ]
  },
  {
   "cell_type": "markdown",
   "metadata": {},
   "source": [
    "def fw_pass():\n",
    "\n",
    "    input_channels = [3, 32, 64, 128, 256, 512, 1024]\n",
    "    output_channels = [32, 64, 128, 256, 512, 1024, 1024]\n",
    "\n",
    "    channels_generator = chain(zip(input_channels, output_channels))\n",
    "\n",
    "    conv_units_fw = [*map(lambda channels: ConvUnit(channels), channels_generator)]\n",
    "\n",
    "    intermidiate_outputs = []\n",
    "    input_x = X_t\n",
    "\n",
    "    for unit in conv_units_fw:\n",
    "        out = unit(input_x)\n",
    "        intermidiate_outputs += [out]\n",
    "        input_x = out\n",
    "        \n",
    "    return intermidiate_outputs"
   ]
  },
  {
   "cell_type": "markdown",
   "metadata": {},
   "source": [
    "intermidiate_outputs = fw_pass()\n",
    "def bw_pass(intermidiate_outputs):\n",
    "    input_channels = [3, 32, 64, 128, 256, 512, 1024]\n",
    "    output_channels = [32, 64, 128, 256, 512, 1024, 1024]\n",
    "\n",
    "    output_channels.reverse()\n",
    "    input_channels.reverse()\n",
    "\n",
    "    rev_channels_generator = chain(zip(output_channels[:-1], input_channels[:-1]))\n",
    "\n",
    "    conv_units_bw = [*map(lambda channels: ConvTransposeUnit(channels), rev_channels_generator)]\n",
    "\n",
    "    z_att_0 = intermidiate_outputs.pop()\n",
    "    intermidiate_outputs.reverse()\n",
    "\n",
    "    att_features = [z_att_0]\n",
    "    bw_outputs = []\n",
    "\n",
    "    z_att_k = z_att_0\n",
    "    for i, unit in enumerate(conv_units_bw):\n",
    "\n",
    "        z_att_k = unit(z_att_k)\n",
    "        inter_out_k = intermidiate_outputs[i]\n",
    "        att_features += [torch.cat([z_att_k, inter_out_k], dim=1)]\n",
    "\n",
    "    att_features += [torch.nn.UpsamplingBilinear2d(scale_factor=2)(att_features[-1])]\n",
    "    \n",
    "    return att_features"
   ]
  },
  {
   "cell_type": "code",
   "execution_count": null,
   "metadata": {},
   "outputs": [],
   "source": []
  },
  {
   "cell_type": "code",
   "execution_count": 14,
   "metadata": {},
   "outputs": [],
   "source": [
    "class MultiLevelAttEncoder(torch.nn.Module):\n",
    "    def __init__(self, input_channels, output_channels):\n",
    "        super(MultiLevelAttEncoder, self).__init__()\n",
    "        self.fw_channels_generator = chain(zip(input_channels, output_channels))\n",
    "        \n",
    "        bw_input_channels = input_channels.copy()\n",
    "        bw_output_channels = output_channels.copy()\n",
    "        bw_input_channels.reverse()\n",
    "        bw_output_channels.reverse()\n",
    "        \n",
    "        self.bw_channels_generator = chain(zip(bw_output_channels[:-1], bw_input_channels[:-1]))\n",
    "        \n",
    "        \n",
    "\n",
    "    def fw_pass(self, input_x):\n",
    "        #input_x = X_t [batch_size, 3, 256, 256]\n",
    "        \n",
    "        conv_units_fw = [*map(lambda channels: ConvUnit(channels), self.fw_channels_generator)]        \n",
    "        intermidiate_outputs = []\n",
    "#         input_x = X_t\n",
    "        for unit in conv_units_fw:\n",
    "            out = unit(input_x)\n",
    "            intermidiate_outputs += [out]\n",
    "            input_x = out\n",
    "        return intermidiate_outputs\n",
    "    \n",
    "    def bw_pass(self, intermidiate_outputs):\n",
    "        conv_units_bw = [*map(lambda channels: ConvTransposeUnit(channels), self.bw_channels_generator)]\n",
    "        z_att_0 = intermidiate_outputs.pop()\n",
    "        intermidiate_outputs.reverse()\n",
    "        \n",
    "        att_features = [z_att_0]\n",
    "        \n",
    "        z_att_k = z_att_0\n",
    "        for i, unit in enumerate(conv_units_bw):\n",
    "\n",
    "            z_att_k = unit(z_att_k)\n",
    "            inter_out_k = intermidiate_outputs[i]\n",
    "            att_features += [torch.cat([z_att_k, inter_out_k], dim=1)]\n",
    "\n",
    "        att_features += [torch.nn.UpsamplingBilinear2d(scale_factor=2)(att_features[-1])]\n",
    "        \n",
    "        return att_features\n",
    "    \n",
    "    def forward(self, input_x):\n",
    "        intermidiate_outputs = self.fw_pass(input_x)\n",
    "        att_features = self.bw_pass(intermidiate_outputs)\n",
    "        \n",
    "        return att_features"
   ]
  },
  {
   "cell_type": "code",
   "execution_count": 15,
   "metadata": {},
   "outputs": [],
   "source": [
    "input_channels = [3, 32, 64, 128, 256, 512, 1024]\n",
    "output_channels = [32, 64, 128, 256, 512, 1024, 1024]\n",
    "\n",
    "att_enc = MultiLevelAttEncoder(input_channels, output_channels)"
   ]
  },
  {
   "cell_type": "code",
   "execution_count": 16,
   "metadata": {},
   "outputs": [],
   "source": [
    "att_features = att_enc(X_t)"
   ]
  },
  {
   "cell_type": "code",
   "execution_count": null,
   "metadata": {},
   "outputs": [],
   "source": [
    "[*map(lambda x: x.shape, intermidiate_outputs)]"
   ]
  },
  {
   "cell_type": "code",
   "execution_count": 18,
   "metadata": {},
   "outputs": [
    {
     "data": {
      "text/plain": [
       "[torch.Size([1, 1024, 2, 2]),\n",
       " torch.Size([1, 2048, 4, 4]),\n",
       " torch.Size([1, 1024, 8, 8]),\n",
       " torch.Size([1, 512, 16, 16]),\n",
       " torch.Size([1, 256, 32, 32]),\n",
       " torch.Size([1, 128, 64, 64]),\n",
       " torch.Size([1, 64, 128, 128]),\n",
       " torch.Size([1, 64, 256, 256])]"
      ]
     },
     "execution_count": 18,
     "metadata": {},
     "output_type": "execute_result"
    }
   ],
   "source": [
    "[*map(lambda x: x.shape, att_features)]"
   ]
  },
  {
   "cell_type": "code",
   "execution_count": null,
   "metadata": {},
   "outputs": [],
   "source": []
  },
  {
   "cell_type": "code",
   "execution_count": null,
   "metadata": {},
   "outputs": [],
   "source": [
    "conv_units_bw"
   ]
  },
  {
   "cell_type": "code",
   "execution_count": null,
   "metadata": {},
   "outputs": [],
   "source": []
  },
  {
   "cell_type": "code",
   "execution_count": null,
   "metadata": {},
   "outputs": [],
   "source": []
  },
  {
   "cell_type": "code",
   "execution_count": null,
   "metadata": {},
   "outputs": [],
   "source": []
  }
 ],
 "metadata": {
  "kernelspec": {
   "display_name": "faceswap",
   "language": "python",
   "name": "faceswap"
  },
  "language_info": {
   "codemirror_mode": {
    "name": "ipython",
    "version": 3
   },
   "file_extension": ".py",
   "mimetype": "text/x-python",
   "name": "python",
   "nbconvert_exporter": "python",
   "pygments_lexer": "ipython3",
   "version": "3.6.4"
  }
 },
 "nbformat": 4,
 "nbformat_minor": 4
}
