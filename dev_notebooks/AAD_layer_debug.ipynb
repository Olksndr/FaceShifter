{
 "cells": [
  {
   "cell_type": "code",
   "execution_count": 1,
   "metadata": {},
   "outputs": [],
   "source": [
    "import torch"
   ]
  },
  {
   "cell_type": "code",
   "execution_count": 2,
   "metadata": {},
   "outputs": [],
   "source": [
    "from model.AdaptiveAttentionalDenorm import AADGenerator"
   ]
  },
  {
   "cell_type": "code",
   "execution_count": 3,
   "metadata": {},
   "outputs": [],
   "source": [
    "from model.AttributeEncoder import MultiLevelAttEncoder"
   ]
  },
  {
   "cell_type": "code",
   "execution_count": 4,
   "metadata": {},
   "outputs": [],
   "source": [
    "from model.config import Config"
   ]
  },
  {
   "cell_type": "code",
   "execution_count": 5,
   "metadata": {},
   "outputs": [],
   "source": [
    "config = Config()"
   ]
  },
  {
   "cell_type": "code",
   "execution_count": 6,
   "metadata": {},
   "outputs": [
    {
     "data": {
      "text/plain": [
       "{'input_channels': [3, 32, 64, 128, 256, 512, 1024],\n",
       " 'output_channels': [32, 64, 128, 256, 512, 1024, 1024]}"
      ]
     },
     "execution_count": 6,
     "metadata": {},
     "output_type": "execute_result"
    }
   ],
   "source": [
    "config.MLAttConfig"
   ]
  },
  {
   "cell_type": "code",
   "execution_count": 7,
   "metadata": {},
   "outputs": [],
   "source": [
    "# inputs mockup\n",
    "\n",
    "X_t = torch.zeros([1, 3, 256, 256])\n",
    "z_id = torch.zeros([1, 512, 1, 1])"
   ]
  },
  {
   "cell_type": "code",
   "execution_count": 14,
   "metadata": {},
   "outputs": [],
   "source": [
    "att_enc = MultiLevelAttEncoder(config.MLAttConfig['input_channels'], config.MLAttConfig['output_channels'])\n",
    "aad_generator = AADGenerator(config.AADConfig)\n"
   ]
  },
  {
   "cell_type": "code",
   "execution_count": 15,
   "metadata": {},
   "outputs": [],
   "source": [
    "z_attributes = att_enc(X_t)\n",
    "\n",
    "z_attributes_dict = {k:z_attributes[k] for k in range(8)}"
   ]
  },
  {
   "cell_type": "code",
   "execution_count": null,
   "metadata": {},
   "outputs": [],
   "source": []
  },
  {
   "cell_type": "code",
   "execution_count": 16,
   "metadata": {},
   "outputs": [
    {
     "name": "stdout",
     "output_type": "stream",
     "text": [
      "0\n",
      "torch.Size([1, 1024, 2, 2]) before upsampling\n",
      "torch.Size([1, 1024, 4, 4]) After upsampling\n",
      "1\n",
      "torch.Size([1, 1024, 4, 4]) before upsampling\n",
      "torch.Size([1, 1024, 8, 8]) After upsampling\n",
      "2\n",
      "torch.Size([1, 1024, 8, 8]) before upsampling\n",
      "torch.Size([1, 1024, 16, 16]) After upsampling\n",
      "3\n",
      "torch.Size([1, 512, 16, 16]) before upsampling\n",
      "torch.Size([1, 512, 32, 32]) After upsampling\n",
      "4\n",
      "torch.Size([1, 256, 32, 32]) before upsampling\n",
      "torch.Size([1, 256, 64, 64]) After upsampling\n",
      "5\n",
      "torch.Size([1, 128, 64, 64]) before upsampling\n",
      "torch.Size([1, 128, 128, 128]) After upsampling\n",
      "6\n",
      "torch.Size([1, 64, 128, 128]) before upsampling\n",
      "torch.Size([1, 64, 256, 256]) After upsampling\n",
      "7\n",
      "torch.Size([1, 3, 256, 256]) before upsampling\n"
     ]
    }
   ],
   "source": [
    "generator_inputs = z_attributes_dict, z_id\n",
    "\n",
    "output = aad_generator(generator_inputs)"
   ]
  },
  {
   "cell_type": "code",
   "execution_count": 13,
   "metadata": {},
   "outputs": [
    {
     "data": {
      "text/plain": [
       "torch.Size([1, 3, 256, 256])"
      ]
     },
     "execution_count": 13,
     "metadata": {},
     "output_type": "execute_result"
    }
   ],
   "source": [
    "output.shape"
   ]
  },
  {
   "cell_type": "code",
   "execution_count": null,
   "metadata": {},
   "outputs": [],
   "source": []
  }
 ],
 "metadata": {
  "kernelspec": {
   "display_name": "faceswap",
   "language": "python",
   "name": "faceswap"
  },
  "language_info": {
   "codemirror_mode": {
    "name": "ipython",
    "version": 3
   },
   "file_extension": ".py",
   "mimetype": "text/x-python",
   "name": "python",
   "nbconvert_exporter": "python",
   "pygments_lexer": "ipython3",
   "version": "3.6.4"
  }
 },
 "nbformat": 4,
 "nbformat_minor": 4
}
