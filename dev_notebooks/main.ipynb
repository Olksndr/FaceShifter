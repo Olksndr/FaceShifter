{
 "cells": [
  {
   "cell_type": "code",
   "execution_count": 1,
   "metadata": {},
   "outputs": [],
   "source": [
    "import torch\n",
    "\n",
    "\n",
    "from model.Generator import AEINet\n",
    "from model.Discriminator import Discriminator\n",
    "\n",
    "from model import losses\n",
    "from model.config import Config\n",
    "from Dataset import FaceDataset\n",
    "\n",
    "from model.IdentityEncoder import IdentityEncoder"
   ]
  },
  {
   "cell_type": "code",
   "execution_count": 5,
   "metadata": {},
   "outputs": [],
   "source": [
    "identity_encoder = IdentityEncoder()\n",
    "\n",
    "dataset = FaceDataset()\n",
    "\n",
    "batch_size = 1\n",
    "\n",
    "dl = torch.utils.data.DataLoader(dataset, batch_size=batch_size, shuffle=True, num_workers=0, drop_last=True)"
   ]
  },
  {
   "cell_type": "code",
   "execution_count": 7,
   "metadata": {},
   "outputs": [],
   "source": [
    "## GENERATOR\n",
    "\n",
    "config = Config()\n",
    "\n",
    "G = AEINet(config, identity_encoder)\n",
    "\n",
    "### Discriminator\n",
    "\n",
    "opt = losses.DummyOptions()\n",
    "\n",
    "D = Discriminator(opt)\n",
    "\n",
    "criterionGAN = losses.loss.GANLoss(opt.gan_mode, D.FloatTensor, opt=opt)\n",
    "\n",
    "G.train()\n",
    "D.train()\n",
    "\n",
    "opt_G = torch.optim.Adam(G.parameters(), lr=4e-4, betas=(0, 0.999))\n",
    "opt_D = torch.optim.Adam(D.parameters(), lr=4e-4, betas=(0, 0.999))\n",
    "\n",
    "for epoch in range(0, 2000):\n",
    "    for i, (X_s, X_t, same) in enumerate(dl):\n",
    "        print(i)\n",
    "        opt_G.zero_grad()\n",
    "        Y, Z_att, Z_id = G([X_s, X_t])\n",
    "\n",
    "        pred_fake, pred_real = D(torch.cat([Y, X_s], dim=0))\n",
    "\n",
    "        #adversarial loss\n",
    "        adversarial_loss = criterionGAN(pred_fake, True, for_discriminator=False)\n",
    "\n",
    "        #attribute loss\n",
    "        Z_Y_att = G.encode_attributes(Y, return_as_dict=False)\n",
    "        attribute_loss = losses.attribute_loss(Z_att, Z_Y_att)\n",
    "\n",
    "        # identity loss\n",
    "        Z_Y_id = identity_encoder.encode_identity(Y, unsqueeze=False)\n",
    "        identity_loss = losses.identity_loss(Z_id, Z_Y_id)\n",
    "\n",
    "        # reconstruction loss\n",
    "        reconstruction_loss = losses.reconstruction_loss(Y, X_t, same)\n",
    "\n",
    "        #total loss\n",
    "        lossG = 1 * adversarial_loss + 10 * attribute_loss + 5 * identity_loss + 10 * reconstruction_loss\n",
    "        lossG.backward()\n",
    "        opt_G.step()\n",
    "\n",
    "\n",
    "        #discriminator train\n",
    "        opt_D.zero_grad()\n",
    "        pred_fake, pred_real = D(torch.cat([Y.detach(), X_s], dim=0))\n",
    "\n",
    "        lossD = 0.5 * (criterionGAN(pred_real, True, for_discriminator=True) +\\\n",
    "                           criterionGAN(pred_fake, False, for_discriminator=True))\n",
    "        lossD.backward()\n",
    "        opt_D.step()\n",
    " \n",
    "\n",
    "        if i % 1000 == 0:\n",
    "            torch.save(G.state_dict(), './save/G_latest.pth')\n",
    "            torch.save(D.state_dict(), './save/D_latest.pth')"
   ]
  },
  {
   "cell_type": "code",
   "execution_count": null,
   "metadata": {},
   "outputs": [],
   "source": []
  }
 ],
 "metadata": {
  "kernelspec": {
   "display_name": "faceswap",
   "language": "python",
   "name": "faceswap"
  },
  "language_info": {
   "codemirror_mode": {
    "name": "ipython",
    "version": 3
   },
   "file_extension": ".py",
   "mimetype": "text/x-python",
   "name": "python",
   "nbconvert_exporter": "python",
   "pygments_lexer": "ipython3",
   "version": "3.6.4"
  }
 },
 "nbformat": 4,
 "nbformat_minor": 4
}
